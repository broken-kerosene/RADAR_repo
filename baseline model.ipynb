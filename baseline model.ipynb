{
 "cells": [
  {
   "cell_type": "code",
   "execution_count": 437,
   "id": "74686ba7",
   "metadata": {},
   "outputs": [],
   "source": [
    "import random\n",
    "from tqdm import tqdm\n",
    "\n",
    "import torch\n",
    "import torchvision\n",
    "import torch.optim as optim\n",
    "from torchvision import transforms\n",
    "from torch import nn\n",
    "from torch.utils.data.sampler import SubsetRandomSampler\n",
    "from sklearn.metrics import accuracy_score\n",
    "from PIL import Image\n",
    "\n",
    "import numpy as np\n",
    "import pandas as pd\n",
    "import matplotlib.pyplot as plt\n",
    "\n",
    "#import os\n",
    "\n",
    "SEED = 42\n",
    "\n",
    "random.seed(SEED)\n",
    "np.random.seed(SEED)\n",
    "#torch.manual_seed(SEED)\n",
    "#torch.cuda.manual_seed(SEED)\n",
    "torch.backends.cudnn.deterministic = True"
   ]
  },
  {
   "cell_type": "code",
   "execution_count": 438,
   "id": "b2ae295d",
   "metadata": {},
   "outputs": [
    {
     "name": "stdout",
     "output_type": "stream",
     "text": [
      "cuda:0\n"
     ]
    }
   ],
   "source": [
    "device = torch.device(\"cuda:0\") if torch.cuda.is_available() else torch.device(\"cpu\")\n",
    "print(device)"
   ]
  },
  {
   "cell_type": "markdown",
   "id": "4a44aa95",
   "metadata": {},
   "source": [
    "## Долгая функция"
   ]
  },
  {
   "cell_type": "code",
   "execution_count": 439,
   "id": "f04febf2",
   "metadata": {},
   "outputs": [
    {
     "name": "stdout",
     "output_type": "stream",
     "text": [
      "17485 files loaded.\n"
     ]
    }
   ],
   "source": [
    "DIR = 'data'\n",
    "CLASS = {'Cars':0, 'Drones': 1, 'People':2}\n",
    "\n",
    "list_of_file = []   # filename/details\n",
    "list_of_img = []    # x\n",
    "list_of_classi = [] # y\n",
    "\n",
    "for root, dirs, files in os.walk(DIR):\n",
    "    for file in files:\n",
    "        if file.endswith('.csv'):\n",
    "            tmp = root.strip().split('\\\\')\n",
    "            if tmp[-2] in CLASS:\n",
    "                list_of_classi.append(CLASS[tmp[-2]])\n",
    "                list_of_file.append(os.path.join('/'.join(tmp[-3:]),file))\n",
    "                df = pd.read_csv(os.path.join(root,file), sep=',',header=None)\n",
    "                list_of_img.append(df.values)\n",
    "\n",
    "x = np.array(list_of_img)\n",
    "y = np.array(list_of_classi)\n",
    "d = np.array(list_of_file)\n",
    "                \n",
    "print(len(list_of_file), 'files loaded.')"
   ]
  },
  {
   "cell_type": "code",
   "execution_count": 440,
   "id": "a1fa3794",
   "metadata": {},
   "outputs": [
    {
     "data": {
      "image/png": "[encoded data removed]",
      "text/plain": [
       "<Figure size 432x288 with 2 Axes>"
      ]
     },
     "metadata": {
      "needs_background": "light"
     },
     "output_type": "display_data"
    }
   ],
   "source": [
    "fig = plt.figure()\n",
    "ax = plt.axes()\n",
    "img = ax.imshow(list_of_img[12802], vmin=-140, vmax=-70, cmap='jet')\n",
    "plt.title('Range-Doppler for {}'.format(list_of_file[12800]))\n",
    "plt.axis('tight')\n",
    "plt.ylabel('Range Bin')\n",
    "plt.xlabel('Doppler Bin')\n",
    "plt.colorbar(img)\n",
    "plt.show()"
   ]
  },
  {
   "cell_type": "code",
   "execution_count": 441,
   "id": "87e9b8c3",
   "metadata": {},
   "outputs": [],
   "source": [
    "x = np.power(10, x/10)\n",
    "x = x/np.max(x)"
   ]
  },
  {
   "cell_type": "code",
   "execution_count": 480,
   "id": "fc200924",
   "metadata": {},
   "outputs": [],
   "source": [
    "from sklearn.model_selection import train_test_split\n",
    "\n",
    "X_train, X_test, y_train, y_test = train_test_split(x, y, test_size=0.2)"
   ]
  },
  {
   "cell_type": "code",
   "execution_count": 481,
   "id": "7869f203",
   "metadata": {},
   "outputs": [
    {
     "name": "stdout",
     "output_type": "stream",
     "text": [
      "torch.Size([13988, 1, 11, 61]) torch.Size([3497, 1, 11, 61])\n"
     ]
    }
   ],
   "source": [
    "a = torch.Tensor(X_train)\n",
    "X_train = torch.unsqueeze(a, 1)\n",
    "y_train = torch.Tensor(y_train).cuda().long()\n",
    "\n",
    "b = torch.Tensor(X_test)\n",
    "X_test = torch.unsqueeze(b, 1)\n",
    "y_test = torch.Tensor(y_test).cuda().long()\n",
    "\n",
    "print(X_train.shape, X_test.shape)"
   ]
  },
  {
   "cell_type": "code",
   "execution_count": 482,
   "id": "a2a7b756",
   "metadata": {},
   "outputs": [],
   "source": [
    "train_dataset = torch.utils.data.TensorDataset(X_train, y_train)\n",
    "test_dataset = torch.utils.data.TensorDataset(X_test, y_test)    \n",
    "\n",
    "batch = 16\n",
    "train_dataloader = torch.utils.data.DataLoader(train_dataset, shuffle=True, batch_size=batch)\n",
    "val_dataloader = torch.utils.data.DataLoader(test_dataset, shuffle=True, batch_size=batch)"
   ]
  },
  {
   "cell_type": "code",
   "execution_count": 483,
   "id": "de215778",
   "metadata": {},
   "outputs": [],
   "source": [
    "def train_one_epoch(model, train_dataloader, criterion, optimizer, epoch_index, device=\"cuda:0\"):\n",
    "    model.to(device)\n",
    "    model.train()\n",
    "    \n",
    "    running_loss = 0\n",
    "    num = 0\n",
    "    res_loss = []\n",
    "    for x_, y_ in tqdm(train_dataloader):\n",
    "        x_train, y_train = x_.to(device), y_.to(device) # перенос вычислений на GPU\n",
    "        \n",
    "        y_pred = model(x_train) # делаем предсказание\n",
    "        \n",
    "        loss = criterion(y_pred, y_train) \n",
    "        loss.backward()\n",
    "        optimizer.step() # делаем шаг SGD\n",
    "        optimizer.zero_grad() # зануляем градиенты\n",
    "        \n",
    "        running_loss += loss.item()\n",
    "        res_loss.append(loss.item())\n",
    "        num += 1\n",
    "        if num % 250 == 249:    # \n",
    "            #print(f'[{epoch_index}, {num + 1:5d}] loss: {running_loss / 250:.3f}')\n",
    "            running_loss = 0.0\n",
    "    return np.mean(res_loss)\n",
    "\n",
    "def predict(model, val_dataloader, criterion, device=\"cuda:0\"):\n",
    "    model.to(device)\n",
    "    model.eval()\n",
    "    losses = []\n",
    "    true_classes = []\n",
    "    predicted_classes = []\n",
    "    total = 0\n",
    "    correct = 0\n",
    "    with torch.no_grad():\n",
    "        for x_, y_ in tqdm(val_dataloader):\n",
    "            x_test, y_test = x_.to(device), y_.to(device) # перенос вычислений на GPU           \n",
    "            y_pred = model(x_test)\n",
    "            loss = criterion(y_pred, y_test)\n",
    "            losses.append(loss.item())\n",
    "            \n",
    "            _, predicted = torch.max(y_pred.data, 1)\n",
    "            predicted_classes.extend(predicted.cpu().numpy().tolist())\n",
    "            true_classes.extend(y_test.cpu().numpy().tolist())\n",
    "            \n",
    "            total += y_test.size(0)\n",
    "            correct += (predicted == y_test).sum().item()\n",
    "       \n",
    "    return np.mean(losses), predicted_classes, true_classes\n",
    "\n",
    "\n",
    "def train(model, train_dataloader, val_dataloader, criterion, optimizer, scheduler=None, device=\"cuda:0\", n_epochs=10):\n",
    "    model.to(device)\n",
    "    best_acc = 0\n",
    "    for epoch in (range(1, n_epochs+1)):\n",
    "        # YOUR CODE\n",
    "        train_loss = train_one_epoch(model, train_dataloader, criterion, optimizer, epoch, device=\"cuda:0\")\n",
    "        if True or epoch % 2 == 1: \n",
    "            valid_loss, predicted, true = predict(model, val_dataloader, criterion, device=\"cuda:0\")\n",
    "            accuracy = accuracy_score(predicted, true)\n",
    "            print(f\"Эпоха: {epoch};\\t train loss: {train_loss:.3f};\\t valid loss: {valid_loss:.3f};\\t Точность: {100 * accuracy:.2f} %\")\n",
    "            if best_acc < accuracy:\n",
    "                best_acc = accuracy\n",
    "                torch.save(model, \"model/BomjNet_best.pth\")\n",
    "                torch.save(model.state_dict(), \"model/BomjNet_best_w.pt\")\n",
    "        if scheduler != None:\n",
    "            scheduler.step()"
   ]
  },
  {
   "cell_type": "code",
   "execution_count": 496,
   "id": "9f7bb899",
   "metadata": {},
   "outputs": [],
   "source": [
    "class Net(nn.Module):   \n",
    "    def __init__(self):\n",
    "        super(Net, self).__init__()\n",
    "\n",
    "        self.cnn_layers = nn.Sequential(\n",
    "            nn.Conv2d(1, 32, kernel_size=3),\n",
    "            nn.BatchNorm2d(32),\n",
    "            nn.ReLU(),\n",
    "            #nn.MaxPool2d(kernel_size=2, stride=2),\n",
    "        )\n",
    "\n",
    "        self.linear_layers = nn.Sequential(\n",
    "            nn.Flatten(),\n",
    "            nn.Linear(16992, 4096),\n",
    "            #nn.BatchNorm1d(64),\n",
    "            nn.ReLU(),\n",
    "            \n",
    "            nn.Linear(4096, 1024), \n",
    "            #nn.BatchNorm1d(64),\n",
    "            nn.ReLU(),\n",
    "            \n",
    "            nn.Linear(1024, 64), \n",
    "            #nn.BatchNorm1d(64),\n",
    "            nn.ReLU(),\n",
    "\n",
    "            nn.Linear(64, 3),\n",
    "            nn.Softmax(dim=1)\n",
    "                        \n",
    "        )\n",
    "\n",
    "         # Антецедент распространения\n",
    "    def forward(self, x):\n",
    "        x = self.cnn_layers(x)\n",
    "        x = self.linear_layers(x)\n",
    "        return x\n"
   ]
  },
  {
   "cell_type": "code",
   "execution_count": 497,
   "id": "9cbbb817",
   "metadata": {},
   "outputs": [
    {
     "data": {
      "text/plain": [
       "device(type='cuda', index=0)"
      ]
     },
     "execution_count": 497,
     "metadata": {},
     "output_type": "execute_result"
    }
   ],
   "source": [
    "model = Net()\n",
    "model.cuda()\n",
    "\n",
    "n_epochs = 50\n",
    "optimizer = torch.optim.Adam(model.parameters(), lr=0.0001, eps=1e-08)\n",
    "\n",
    "criterion = nn.CrossEntropyLoss()\n",
    "\n",
    "scheduler = optim.lr_scheduler.ExponentialLR(optimizer, gamma=0.97)\n",
    "\n",
    "device = torch.device(\"cuda:0\") if torch.cuda.is_available() else torch.device(\"cpu\")\n",
    "device"
   ]
  },
  {
   "cell_type": "code",
   "execution_count": 498,
   "id": "e180998f",
   "metadata": {},
   "outputs": [
    {
     "name": "stderr",
     "output_type": "stream",
     "text": [
      "100%|██████████| 219/219 [00:00<00:00, 247.21it/s]"
     ]
    },
    {
     "name": "stdout",
     "output_type": "stream",
     "text": [
      "tests passed\n",
      "0.33543036888761796\n",
      "3497 1749\n"
     ]
    },
    {
     "name": "stderr",
     "output_type": "stream",
     "text": [
      "\n"
     ]
    }
   ],
   "source": [
    "all_losses, predicted_labels, true_labels = predict(model, val_dataloader, criterion, device)\n",
    "#assert len(predicted_labels) == len(val_dataset)\n",
    "accuracy = accuracy_score(predicted_labels, true_labels)\n",
    "print(\"tests passed\")\n",
    "print(accuracy)\n",
    "print(len(true_labels), len(val_dataset))"
   ]
  },
  {
   "cell_type": "code",
   "execution_count": 499,
   "id": "1d4adb86",
   "metadata": {},
   "outputs": [
    {
     "name": "stderr",
     "output_type": "stream",
     "text": [
      "100%|██████████| 875/875 [00:21<00:00, 41.00it/s]\n",
      "100%|██████████| 219/219 [00:00<00:00, 371.92it/s]\n"
     ]
    },
    {
     "name": "stdout",
     "output_type": "stream",
     "text": [
      "Эпоха: 1;\t train loss: 0.877;\t valid loss: 1.132;\t Точность: 41.98 %\n"
     ]
    },
    {
     "name": "stderr",
     "output_type": "stream",
     "text": [
      "100%|██████████| 875/875 [00:21<00:00, 41.13it/s]\n",
      "100%|██████████| 219/219 [00:00<00:00, 364.51it/s]\n"
     ]
    },
    {
     "name": "stdout",
     "output_type": "stream",
     "text": [
      "Эпоха: 2;\t train loss: 0.801;\t valid loss: 1.120;\t Точность: 43.09 %\n"
     ]
    },
    {
     "name": "stderr",
     "output_type": "stream",
     "text": [
      "100%|██████████| 875/875 [00:21<00:00, 41.45it/s]\n",
      "100%|██████████| 219/219 [00:00<00:00, 360.80it/s]\n"
     ]
    },
    {
     "name": "stdout",
     "output_type": "stream",
     "text": [
      "Эпоха: 3;\t train loss: 0.787;\t valid loss: 1.147;\t Точность: 40.43 %\n"
     ]
    },
    {
     "name": "stderr",
     "output_type": "stream",
     "text": [
      "100%|██████████| 875/875 [00:21<00:00, 41.58it/s]\n",
      "100%|██████████| 219/219 [00:00<00:00, 358.44it/s]\n"
     ]
    },
    {
     "name": "stdout",
     "output_type": "stream",
     "text": [
      "Эпоха: 4;\t train loss: 0.773;\t valid loss: 1.118;\t Точность: 43.32 %\n"
     ]
    },
    {
     "name": "stderr",
     "output_type": "stream",
     "text": [
      "100%|██████████| 875/875 [00:21<00:00, 41.08it/s]\n",
      "100%|██████████| 219/219 [00:00<00:00, 366.26it/s]\n"
     ]
    },
    {
     "name": "stdout",
     "output_type": "stream",
     "text": [
      "Эпоха: 5;\t train loss: 0.763;\t valid loss: 1.141;\t Точность: 41.01 %\n"
     ]
    },
    {
     "name": "stderr",
     "output_type": "stream",
     "text": [
      "100%|██████████| 875/875 [00:21<00:00, 41.52it/s]\n",
      "100%|██████████| 219/219 [00:00<00:00, 358.45it/s]\n"
     ]
    },
    {
     "name": "stdout",
     "output_type": "stream",
     "text": [
      "Эпоха: 6;\t train loss: 0.756;\t valid loss: 1.005;\t Точность: 54.68 %\n"
     ]
    },
    {
     "name": "stderr",
     "output_type": "stream",
     "text": [
      "100%|██████████| 875/875 [00:21<00:00, 41.49it/s]\n",
      "100%|██████████| 219/219 [00:00<00:00, 366.26it/s]\n"
     ]
    },
    {
     "name": "stdout",
     "output_type": "stream",
     "text": [
      "Эпоха: 7;\t train loss: 0.749;\t valid loss: 1.111;\t Точность: 44.07 %\n"
     ]
    },
    {
     "name": "stderr",
     "output_type": "stream",
     "text": [
      "100%|██████████| 875/875 [00:21<00:00, 41.62it/s]\n",
      "100%|██████████| 219/219 [00:00<00:00, 359.64it/s]\n"
     ]
    },
    {
     "name": "stdout",
     "output_type": "stream",
     "text": [
      "Эпоха: 8;\t train loss: 0.750;\t valid loss: 0.892;\t Точность: 65.89 %\n"
     ]
    },
    {
     "name": "stderr",
     "output_type": "stream",
     "text": [
      "100%|██████████| 875/875 [00:21<00:00, 41.42it/s]\n",
      "100%|██████████| 219/219 [00:00<00:00, 365.59it/s]\n"
     ]
    },
    {
     "name": "stdout",
     "output_type": "stream",
     "text": [
      "Эпоха: 9;\t train loss: 0.740;\t valid loss: 0.904;\t Точность: 64.05 %\n"
     ]
    },
    {
     "name": "stderr",
     "output_type": "stream",
     "text": [
      "100%|██████████| 875/875 [00:21<00:00, 41.47it/s]\n",
      "100%|██████████| 219/219 [00:00<00:00, 360.45it/s]\n"
     ]
    },
    {
     "name": "stdout",
     "output_type": "stream",
     "text": [
      "Эпоха: 10;\t train loss: 0.736;\t valid loss: 0.980;\t Точность: 57.16 %\n"
     ]
    },
    {
     "name": "stderr",
     "output_type": "stream",
     "text": [
      "100%|██████████| 875/875 [00:21<00:00, 41.63it/s]\n",
      "100%|██████████| 219/219 [00:00<00:00, 361.98it/s]\n"
     ]
    },
    {
     "name": "stdout",
     "output_type": "stream",
     "text": [
      "Эпоха: 11;\t train loss: 0.737;\t valid loss: 0.824;\t Точность: 72.40 %\n"
     ]
    },
    {
     "name": "stderr",
     "output_type": "stream",
     "text": [
      "100%|██████████| 875/875 [00:21<00:00, 41.47it/s]\n",
      "100%|██████████| 219/219 [00:00<00:00, 363.78it/s]\n"
     ]
    },
    {
     "name": "stdout",
     "output_type": "stream",
     "text": [
      "Эпоха: 12;\t train loss: 0.730;\t valid loss: 1.062;\t Точность: 48.93 %\n"
     ]
    },
    {
     "name": "stderr",
     "output_type": "stream",
     "text": [
      "100%|██████████| 875/875 [00:21<00:00, 40.37it/s]\n",
      "100%|██████████| 219/219 [00:00<00:00, 355.87it/s]\n"
     ]
    },
    {
     "name": "stdout",
     "output_type": "stream",
     "text": [
      "Эпоха: 13;\t train loss: 0.728;\t valid loss: 1.088;\t Точность: 46.38 %\n"
     ]
    },
    {
     "name": "stderr",
     "output_type": "stream",
     "text": [
      "100%|██████████| 875/875 [00:21<00:00, 41.11it/s]\n",
      "100%|██████████| 219/219 [00:00<00:00, 367.44it/s]\n"
     ]
    },
    {
     "name": "stdout",
     "output_type": "stream",
     "text": [
      "Эпоха: 14;\t train loss: 0.727;\t valid loss: 0.888;\t Точность: 66.14 %\n"
     ]
    },
    {
     "name": "stderr",
     "output_type": "stream",
     "text": [
      "100%|██████████| 875/875 [00:21<00:00, 40.59it/s]\n",
      "100%|██████████| 219/219 [00:00<00:00, 342.72it/s]\n"
     ]
    },
    {
     "name": "stdout",
     "output_type": "stream",
     "text": [
      "Эпоха: 15;\t train loss: 0.727;\t valid loss: 1.090;\t Точность: 46.13 %\n"
     ]
    },
    {
     "name": "stderr",
     "output_type": "stream",
     "text": [
      "100%|██████████| 875/875 [00:21<00:00, 41.01it/s]\n",
      "100%|██████████| 219/219 [00:00<00:00, 336.46it/s]\n"
     ]
    },
    {
     "name": "stdout",
     "output_type": "stream",
     "text": [
      "Эпоха: 16;\t train loss: 0.721;\t valid loss: 0.898;\t Точность: 64.40 %\n"
     ]
    },
    {
     "name": "stderr",
     "output_type": "stream",
     "text": [
      "100%|██████████| 875/875 [00:21<00:00, 40.41it/s]\n",
      "100%|██████████| 219/219 [00:00<00:00, 359.57it/s]\n"
     ]
    },
    {
     "name": "stdout",
     "output_type": "stream",
     "text": [
      "Эпоха: 17;\t train loss: 0.721;\t valid loss: 0.906;\t Точность: 63.20 %\n"
     ]
    },
    {
     "name": "stderr",
     "output_type": "stream",
     "text": [
      "100%|██████████| 875/875 [00:21<00:00, 41.45it/s]\n",
      "100%|██████████| 219/219 [00:00<00:00, 360.34it/s]\n"
     ]
    },
    {
     "name": "stdout",
     "output_type": "stream",
     "text": [
      "Эпоха: 18;\t train loss: 0.716;\t valid loss: 1.066;\t Точность: 48.58 %\n"
     ]
    },
    {
     "name": "stderr",
     "output_type": "stream",
     "text": [
      "100%|██████████| 875/875 [00:21<00:00, 41.51it/s]\n",
      "100%|██████████| 219/219 [00:00<00:00, 360.20it/s]\n"
     ]
    },
    {
     "name": "stdout",
     "output_type": "stream",
     "text": [
      "Эпоха: 19;\t train loss: 0.715;\t valid loss: 0.806;\t Точность: 74.29 %\n"
     ]
    },
    {
     "name": "stderr",
     "output_type": "stream",
     "text": [
      "100%|██████████| 875/875 [00:21<00:00, 41.14it/s]\n",
      "100%|██████████| 219/219 [00:00<00:00, 361.93it/s]\n"
     ]
    },
    {
     "name": "stdout",
     "output_type": "stream",
     "text": [
      "Эпоха: 20;\t train loss: 0.714;\t valid loss: 0.806;\t Точность: 74.52 %\n"
     ]
    },
    {
     "name": "stderr",
     "output_type": "stream",
     "text": [
      "100%|██████████| 875/875 [00:21<00:00, 41.36it/s]\n",
      "100%|██████████| 219/219 [00:00<00:00, 361.36it/s]\n"
     ]
    },
    {
     "name": "stdout",
     "output_type": "stream",
     "text": [
      "Эпоха: 21;\t train loss: 0.716;\t valid loss: 1.027;\t Точность: 52.44 %\n"
     ]
    },
    {
     "name": "stderr",
     "output_type": "stream",
     "text": [
      "100%|██████████| 875/875 [00:21<00:00, 40.38it/s]\n",
      "100%|██████████| 219/219 [00:00<00:00, 339.51it/s]\n"
     ]
    },
    {
     "name": "stdout",
     "output_type": "stream",
     "text": [
      "Эпоха: 22;\t train loss: 0.713;\t valid loss: 1.090;\t Точность: 46.24 %\n"
     ]
    },
    {
     "name": "stderr",
     "output_type": "stream",
     "text": [
      "100%|██████████| 875/875 [00:21<00:00, 41.15it/s]\n",
      "100%|██████████| 219/219 [00:00<00:00, 367.81it/s]\n"
     ]
    },
    {
     "name": "stdout",
     "output_type": "stream",
     "text": [
      "Эпоха: 23;\t train loss: 0.706;\t valid loss: 0.914;\t Точность: 63.77 %\n"
     ]
    },
    {
     "name": "stderr",
     "output_type": "stream",
     "text": [
      "100%|██████████| 875/875 [00:21<00:00, 41.39it/s]\n",
      "100%|██████████| 219/219 [00:00<00:00, 368.00it/s]\n"
     ]
    },
    {
     "name": "stdout",
     "output_type": "stream",
     "text": [
      "Эпоха: 24;\t train loss: 0.706;\t valid loss: 0.905;\t Точность: 64.74 %\n"
     ]
    },
    {
     "name": "stderr",
     "output_type": "stream",
     "text": [
      "100%|██████████| 875/875 [00:21<00:00, 40.39it/s]\n",
      "100%|██████████| 219/219 [00:00<00:00, 357.84it/s]\n"
     ]
    },
    {
     "name": "stdout",
     "output_type": "stream",
     "text": [
      "Эпоха: 25;\t train loss: 0.706;\t valid loss: 1.063;\t Точность: 48.81 %\n"
     ]
    },
    {
     "name": "stderr",
     "output_type": "stream",
     "text": [
      "100%|██████████| 875/875 [00:21<00:00, 41.30it/s]\n",
      "100%|██████████| 219/219 [00:00<00:00, 365.63it/s]\n"
     ]
    },
    {
     "name": "stdout",
     "output_type": "stream",
     "text": [
      "Эпоха: 26;\t train loss: 0.703;\t valid loss: 1.120;\t Точность: 43.09 %\n"
     ]
    },
    {
     "name": "stderr",
     "output_type": "stream",
     "text": [
      "100%|██████████| 875/875 [00:20<00:00, 41.71it/s]\n",
      "100%|██████████| 219/219 [00:00<00:00, 369.98it/s]\n"
     ]
    },
    {
     "name": "stdout",
     "output_type": "stream",
     "text": [
      "Эпоха: 27;\t train loss: 0.703;\t valid loss: 1.052;\t Точность: 49.93 %\n"
     ]
    },
    {
     "name": "stderr",
     "output_type": "stream",
     "text": [
      "100%|██████████| 875/875 [00:21<00:00, 41.22it/s]\n",
      "100%|██████████| 219/219 [00:00<00:00, 356.72it/s]\n"
     ]
    },
    {
     "name": "stdout",
     "output_type": "stream",
     "text": [
      "Эпоха: 28;\t train loss: 0.702;\t valid loss: 1.071;\t Точность: 48.10 %\n"
     ]
    },
    {
     "name": "stderr",
     "output_type": "stream",
     "text": [
      "100%|██████████| 875/875 [00:21<00:00, 40.26it/s]\n",
      "100%|██████████| 219/219 [00:00<00:00, 354.94it/s]\n"
     ]
    },
    {
     "name": "stdout",
     "output_type": "stream",
     "text": [
      "Эпоха: 29;\t train loss: 0.701;\t valid loss: 0.923;\t Точность: 60.34 %\n"
     ]
    },
    {
     "name": "stderr",
     "output_type": "stream",
     "text": [
      "100%|██████████| 875/875 [00:21<00:00, 40.18it/s]\n",
      "100%|██████████| 219/219 [00:00<00:00, 357.93it/s]\n"
     ]
    },
    {
     "name": "stdout",
     "output_type": "stream",
     "text": [
      "Эпоха: 30;\t train loss: 0.701;\t valid loss: 1.111;\t Точность: 44.04 %\n"
     ]
    },
    {
     "name": "stderr",
     "output_type": "stream",
     "text": [
      "100%|██████████| 875/875 [00:21<00:00, 40.62it/s]\n",
      "100%|██████████| 219/219 [00:00<00:00, 354.37it/s]\n"
     ]
    },
    {
     "name": "stdout",
     "output_type": "stream",
     "text": [
      "Эпоха: 31;\t train loss: 0.701;\t valid loss: 0.850;\t Точность: 69.89 %\n"
     ]
    },
    {
     "name": "stderr",
     "output_type": "stream",
     "text": [
      "100%|██████████| 875/875 [00:21<00:00, 40.53it/s]\n",
      "100%|██████████| 219/219 [00:00<00:00, 358.99it/s]\n"
     ]
    },
    {
     "name": "stdout",
     "output_type": "stream",
     "text": [
      "Эпоха: 32;\t train loss: 0.696;\t valid loss: 0.963;\t Точность: 58.85 %\n"
     ]
    },
    {
     "name": "stderr",
     "output_type": "stream",
     "text": [
      "100%|██████████| 875/875 [00:21<00:00, 41.47it/s]\n",
      "100%|██████████| 219/219 [00:00<00:00, 370.06it/s]\n"
     ]
    },
    {
     "name": "stdout",
     "output_type": "stream",
     "text": [
      "Эпоха: 33;\t train loss: 0.691;\t valid loss: 1.004;\t Точность: 54.73 %\n"
     ]
    },
    {
     "name": "stderr",
     "output_type": "stream",
     "text": [
      "100%|██████████| 875/875 [00:21<00:00, 41.24it/s]\n",
      "100%|██████████| 219/219 [00:00<00:00, 359.62it/s]\n"
     ]
    },
    {
     "name": "stdout",
     "output_type": "stream",
     "text": [
      "Эпоха: 34;\t train loss: 0.695;\t valid loss: 1.077;\t Точность: 47.47 %\n"
     ]
    },
    {
     "name": "stderr",
     "output_type": "stream",
     "text": [
      "100%|██████████| 875/875 [00:21<00:00, 41.02it/s]\n",
      "100%|██████████| 219/219 [00:00<00:00, 365.62it/s]\n"
     ]
    },
    {
     "name": "stdout",
     "output_type": "stream",
     "text": [
      "Эпоха: 35;\t train loss: 0.692;\t valid loss: 1.018;\t Точность: 53.30 %\n"
     ]
    },
    {
     "name": "stderr",
     "output_type": "stream",
     "text": [
      "100%|██████████| 875/875 [00:21<00:00, 41.33it/s]\n",
      "100%|██████████| 219/219 [00:00<00:00, 367.35it/s]\n"
     ]
    },
    {
     "name": "stdout",
     "output_type": "stream",
     "text": [
      "Эпоха: 36;\t train loss: 0.690;\t valid loss: 0.787;\t Точность: 76.29 %\n"
     ]
    },
    {
     "name": "stderr",
     "output_type": "stream",
     "text": [
      "100%|██████████| 875/875 [00:21<00:00, 40.77it/s]\n",
      "100%|██████████| 219/219 [00:00<00:00, 350.96it/s]\n"
     ]
    },
    {
     "name": "stdout",
     "output_type": "stream",
     "text": [
      "Эпоха: 37;\t train loss: 0.691;\t valid loss: 0.815;\t Точность: 73.61 %\n"
     ]
    },
    {
     "name": "stderr",
     "output_type": "stream",
     "text": [
      "100%|██████████| 875/875 [00:21<00:00, 39.95it/s]\n",
      "100%|██████████| 219/219 [00:00<00:00, 367.02it/s]\n"
     ]
    },
    {
     "name": "stdout",
     "output_type": "stream",
     "text": [
      "Эпоха: 38;\t train loss: 0.686;\t valid loss: 0.790;\t Точность: 75.95 %\n"
     ]
    },
    {
     "name": "stderr",
     "output_type": "stream",
     "text": [
      "100%|██████████| 875/875 [00:21<00:00, 41.45it/s]\n",
      "100%|██████████| 219/219 [00:00<00:00, 345.43it/s]\n"
     ]
    },
    {
     "name": "stdout",
     "output_type": "stream",
     "text": [
      "Эпоха: 39;\t train loss: 0.685;\t valid loss: 0.917;\t Точность: 63.23 %\n"
     ]
    },
    {
     "name": "stderr",
     "output_type": "stream",
     "text": [
      "100%|██████████| 875/875 [00:21<00:00, 39.81it/s]\n",
      "100%|██████████| 219/219 [00:00<00:00, 341.12it/s]\n"
     ]
    },
    {
     "name": "stdout",
     "output_type": "stream",
     "text": [
      "Эпоха: 40;\t train loss: 0.690;\t valid loss: 0.888;\t Точность: 64.57 %\n"
     ]
    },
    {
     "name": "stderr",
     "output_type": "stream",
     "text": [
      "100%|██████████| 875/875 [00:21<00:00, 39.91it/s]\n",
      "100%|██████████| 219/219 [00:00<00:00, 366.16it/s]\n"
     ]
    },
    {
     "name": "stdout",
     "output_type": "stream",
     "text": [
      "Эпоха: 41;\t train loss: 0.686;\t valid loss: 1.027;\t Точность: 52.44 %\n"
     ]
    },
    {
     "name": "stderr",
     "output_type": "stream",
     "text": [
      "100%|██████████| 875/875 [00:21<00:00, 41.01it/s]\n",
      "100%|██████████| 219/219 [00:00<00:00, 333.41it/s]\n"
     ]
    },
    {
     "name": "stdout",
     "output_type": "stream",
     "text": [
      "Эпоха: 42;\t train loss: 0.685;\t valid loss: 0.890;\t Точность: 65.51 %\n"
     ]
    },
    {
     "name": "stderr",
     "output_type": "stream",
     "text": [
      "100%|██████████| 875/875 [00:21<00:00, 41.17it/s]\n",
      "100%|██████████| 219/219 [00:00<00:00, 369.33it/s]\n"
     ]
    },
    {
     "name": "stdout",
     "output_type": "stream",
     "text": [
      "Эпоха: 43;\t train loss: 0.687;\t valid loss: 0.774;\t Точность: 77.61 %\n"
     ]
    },
    {
     "name": "stderr",
     "output_type": "stream",
     "text": [
      "100%|██████████| 875/875 [00:20<00:00, 41.86it/s]\n",
      "100%|██████████| 219/219 [00:00<00:00, 362.32it/s]\n"
     ]
    },
    {
     "name": "stdout",
     "output_type": "stream",
     "text": [
      "Эпоха: 44;\t train loss: 0.688;\t valid loss: 0.998;\t Точность: 55.28 %\n"
     ]
    },
    {
     "name": "stderr",
     "output_type": "stream",
     "text": [
      "100%|██████████| 875/875 [00:21<00:00, 41.17it/s]\n",
      "100%|██████████| 219/219 [00:00<00:00, 372.94it/s]\n"
     ]
    },
    {
     "name": "stdout",
     "output_type": "stream",
     "text": [
      "Эпоха: 45;\t train loss: 0.682;\t valid loss: 0.946;\t Точность: 60.54 %\n"
     ]
    },
    {
     "name": "stderr",
     "output_type": "stream",
     "text": [
      "100%|██████████| 875/875 [00:21<00:00, 40.20it/s]\n",
      "100%|██████████| 219/219 [00:00<00:00, 365.01it/s]\n"
     ]
    },
    {
     "name": "stdout",
     "output_type": "stream",
     "text": [
      "Эпоха: 46;\t train loss: 0.684;\t valid loss: 0.795;\t Точность: 75.35 %\n"
     ]
    },
    {
     "name": "stderr",
     "output_type": "stream",
     "text": [
      "100%|██████████| 875/875 [00:21<00:00, 41.10it/s]\n",
      "100%|██████████| 219/219 [00:00<00:00, 373.65it/s]\n"
     ]
    },
    {
     "name": "stdout",
     "output_type": "stream",
     "text": [
      "Эпоха: 47;\t train loss: 0.680;\t valid loss: 0.736;\t Точность: 81.44 %\n"
     ]
    },
    {
     "name": "stderr",
     "output_type": "stream",
     "text": [
      "100%|██████████| 875/875 [00:21<00:00, 40.77it/s]\n",
      "100%|██████████| 219/219 [00:00<00:00, 355.57it/s]\n"
     ]
    },
    {
     "name": "stdout",
     "output_type": "stream",
     "text": [
      "Эпоха: 48;\t train loss: 0.684;\t valid loss: 0.756;\t Точность: 79.47 %\n"
     ]
    },
    {
     "name": "stderr",
     "output_type": "stream",
     "text": [
      "100%|██████████| 875/875 [00:21<00:00, 39.85it/s]\n",
      "100%|██████████| 219/219 [00:00<00:00, 367.73it/s]\n"
     ]
    },
    {
     "name": "stdout",
     "output_type": "stream",
     "text": [
      "Эпоха: 49;\t train loss: 0.678;\t valid loss: 0.778;\t Точность: 77.12 %\n"
     ]
    },
    {
     "name": "stderr",
     "output_type": "stream",
     "text": [
      "100%|██████████| 875/875 [00:21<00:00, 40.84it/s]\n",
      "100%|██████████| 219/219 [00:00<00:00, 365.85it/s]"
     ]
    },
    {
     "name": "stdout",
     "output_type": "stream",
     "text": [
      "Эпоха: 50;\t train loss: 0.680;\t valid loss: 0.802;\t Точность: 74.81 %\n"
     ]
    },
    {
     "name": "stderr",
     "output_type": "stream",
     "text": [
      "\n"
     ]
    }
   ],
   "source": [
    "# SEED = 42\n",
    "\n",
    "# random.seed(SEED)\n",
    "# np.random.seed(SEED)\n",
    "# torch.manual_seed(SEED)\n",
    "# torch.cuda.manual_seed(SEED)\n",
    "# torch.backends.cudnn.deterministic = True\n",
    "\n",
    "\n",
    "torch.cuda.empty_cache()\n",
    "train(model, train_dataloader, val_dataloader, criterion, optimizer, scheduler, device, n_epochs)"
   ]
  }
 ],
 "metadata": {
  "kernelspec": {
   "display_name": "Python 3 (ipykernel)",
   "language": "python",
   "name": "python3"
  },
  "language_info": {
   "codemirror_mode": {
    "name": "ipython",
    "version": 3
   },
   "file_extension": ".py",
   "mimetype": "text/x-python",
   "name": "python",
   "nbconvert_exporter": "python",
   "pygments_lexer": "ipython3",
   "version": "3.8.8"
  }
 },
 "nbformat": 4,
 "nbformat_minor": 5
}
