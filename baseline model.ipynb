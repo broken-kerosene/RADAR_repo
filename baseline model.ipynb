{
 "cells": [
  {
   "cell_type": "code",
   "execution_count": 1,
   "id": "74686ba7",
   "metadata": {},
   "outputs": [
    {
     "name": "stdout",
     "output_type": "stream",
     "text": [
      "Device is ready:  cuda:0\n"
     ]
    }
   ],
   "source": [
    "import random\n",
    "from tqdm import tqdm\n",
    "\n",
    "import torch\n",
    "import torch.optim as optim\n",
    "from torchvision import transforms\n",
    "\n",
    "\n",
    "import numpy as np\n",
    "import pandas as pd\n",
    "import matplotlib.pyplot as plt\n",
    "\n",
    "import os\n",
    "\n",
    "from src.tools import *\n",
    "from src.MyRadarNetTools import *\n",
    "from src.MyRadarNet import *\n",
    "# SEED = 42\n",
    "\n",
    "# random.seed(SEED)\n",
    "# np.random.seed(SEED)\n",
    "# torch.manual_seed(SEED)\n",
    "# torch.cuda.manual_seed(SEED)\n",
    "# torch.backends.cudnn.deterministic = True\n",
    "device = torch.device(\"cuda:0\") if torch.cuda.is_available() else torch.device(\"cpu\")\n",
    "print(\"Device is ready: \", device)"
   ]
  },
  {
   "cell_type": "markdown",
   "id": "4a44aa95",
   "metadata": {},
   "source": [
    "## Импорт файлов"
   ]
  },
  {
   "cell_type": "code",
   "execution_count": 2,
   "id": "dd39dfec",
   "metadata": {},
   "outputs": [
    {
     "name": "stdout",
     "output_type": "stream",
     "text": [
      "<generator object walk at 0x0000020E128BF5F0>\n"
     ]
    },
    {
     "name": "stderr",
     "output_type": "stream",
     "text": [
      "100%|██████████| 84/84 [01:20<00:00,  1.04it/s]"
     ]
    },
    {
     "name": "stdout",
     "output_type": "stream",
     "text": [
      "17485 files loaded.\n"
     ]
    },
    {
     "name": "stderr",
     "output_type": "stream",
     "text": [
      "\n"
     ]
    }
   ],
   "source": [
    "x, y, _ = read_Files()"
   ]
  },
  {
   "cell_type": "code",
   "execution_count": 3,
   "id": "fc200924",
   "metadata": {},
   "outputs": [
    {
     "name": "stdout",
     "output_type": "stream",
     "text": [
      "torch.Size([4624, 3, 11, 61]) torch.Size([4624]) torch.Size([1157, 3, 11, 61]) torch.Size([1157])\n"
     ]
    }
   ],
   "source": [
    "from sklearn.model_selection import train_test_split\n",
    "\n",
    "X_train, X_test, y_train, y_test = train_test_split(x, y, test_size=0.2)\n",
    "train_dataloader, val_dataloader = make_dataloader(X_train, X_test, y_train, y_test, batch=64)"
   ]
  },
  {
   "cell_type": "code",
   "execution_count": 4,
   "id": "9cbbb817",
   "metadata": {},
   "outputs": [],
   "source": [
    "frame_count = 3\n",
    "model = MyRadarNet(frame_count)\n",
    "model.cuda()\n",
    "\n",
    "n_epochs = 50\n",
    "optimizer = torch.optim.Adam(model.parameters(), lr=0.00005, eps=1e-08)\n",
    "criterion = nn.CrossEntropyLoss()\n",
    "scheduler = optim.lr_scheduler.ExponentialLR(optimizer, gamma=0.97)"
   ]
  },
  {
   "cell_type": "code",
   "execution_count": 9,
   "id": "e180998f",
   "metadata": {},
   "outputs": [
    {
     "name": "stdout",
     "output_type": "stream",
     "text": [
      "tests passed\n",
      "0.28694900605012963\n"
     ]
    }
   ],
   "source": [
    "# all_losses, predicted_labels, true_labels = predict(model, val_dataloader, criterion, device)\n",
    "# accuracy = accuracy_score(predicted_labels, true_labels)\n",
    "# print(\"tests passed\")\n",
    "# print(accuracy)"
   ]
  },
  {
   "cell_type": "code",
   "execution_count": 5,
   "id": "1d4adb86",
   "metadata": {
    "scrolled": false
   },
   "outputs": [
    {
     "name": "stdout",
     "output_type": "stream",
     "text": [
      "Эпоха: 50;\ttrain loss: 0.590;\tvalid loss: 0.601;\tТочность: 95.76 % \n"
     ]
    },
    {
     "data": {
      "image/png": "[encoded data removed]",
      "text/plain": [
       "<Figure size 864x288 with 2 Axes>"
      ]
     },
     "metadata": {
      "needs_background": "light"
     },
     "output_type": "display_data"
    }
   ],
   "source": [
    "%matplotlib inline\n",
    "\n",
    "torch.cuda.empty_cache()\n",
    "train(model, train_dataloader, val_dataloader, criterion, optimizer, scheduler, device, n_epochs)"
   ]
  },
  {
   "cell_type": "code",
   "execution_count": 9,
   "id": "51796821",
   "metadata": {},
   "outputs": [],
   "source": [
    "# from torchmetrics import  ConfusionMatrix\n",
    "# all_losses, predicted_labels, true_labels = predict(model, val_dataloader, criterion, device)\n",
    "# confmat = ConfusionMatrix(task=\"binary\", num_classes=3)\n",
    "# confmat(predicted_labels, true_labels)"
   ]
  }
 ],
 "metadata": {
  "kernelspec": {
   "display_name": "Python 3 (ipykernel)",
   "language": "python",
   "name": "python3"
  },
  "language_info": {
   "codemirror_mode": {
    "name": "ipython",
    "version": 3
   },
   "file_extension": ".py",
   "mimetype": "text/x-python",
   "name": "python",
   "nbconvert_exporter": "python",
   "pygments_lexer": "ipython3",
   "version": "3.8.8"
  }
 },
 "nbformat": 4,
 "nbformat_minor": 5
}
