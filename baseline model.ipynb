{
 "cells": [
  {
   "cell_type": "code",
   "execution_count": 1,
   "id": "74686ba7",
   "metadata": {},
   "outputs": [
    {
     "name": "stdout",
     "output_type": "stream",
     "text": [
      "Device is ready:  cuda:0\n"
     ]
    }
   ],
   "source": [
    "import torch\n",
    "import torch.optim as optim\n",
    "from sklearn.model_selection import train_test_split\n",
    "\n",
    "from src.tools import *\n",
    "from src.MyRadarNetTools import *\n",
    "from src.MyRadarNet import *\n",
    "\n",
    "# import random\n",
    "# SEED = 42\n",
    "# random.seed(SEED)\n",
    "# np.random.seed(SEED)\n",
    "# torch.manual_seed(SEED)\n",
    "# torch.cuda.manual_seed(SEED)\n",
    "# torch.backends.cudnn.deterministic = True\n",
    "device = torch.device(\"cuda:0\") if torch.cuda.is_available() else torch.device(\"cpu\")\n",
    "print(\"Device is ready: \", device)"
   ]
  },
  {
   "cell_type": "markdown",
   "id": "4a44aa95",
   "metadata": {},
   "source": [
    "## Импорт файлов"
   ]
  },
  {
   "cell_type": "code",
   "execution_count": 46,
   "id": "dd39dfec",
   "metadata": {},
   "outputs": [
    {
     "name": "stdout",
     "output_type": "stream",
     "text": [
      "<generator object walk at 0x0000022B1FE00C10>\n"
     ]
    },
    {
     "name": "stderr",
     "output_type": "stream",
     "text": [
      " 12%|█▏        | 10/84 [00:12<01:35,  1.29s/it]\n"
     ]
    },
    {
     "ename": "KeyboardInterrupt",
     "evalue": "",
     "output_type": "error",
     "traceback": [
      "\u001b[1;31m---------------------------------------------------------------------------\u001b[0m",
      "\u001b[1;31mKeyboardInterrupt\u001b[0m                         Traceback (most recent call last)",
      "\u001b[1;32mc:\\Users\\Kerosene\\ВШЭ\\ВКР\\RADAR_repo\\baseline model.ipynb Ячейка 3\u001b[0m in \u001b[0;36m<cell line: 1>\u001b[1;34m()\u001b[0m\n\u001b[1;32m----> <a href='vscode-notebook-cell:/c%3A/Users/Kerosene/%D0%92%D0%A8%D0%AD/%D0%92%D0%9A%D0%A0/RADAR_repo/baseline%20model.ipynb#W2sZmlsZQ%3D%3D?line=0'>1</a>\u001b[0m x, y, _ \u001b[39m=\u001b[39m read_Files()\n",
      "File \u001b[1;32mc:\\Users\\Kerosene\\ВШЭ\\ВКР\\RADAR_repo\\src\\tools.py:20\u001b[0m, in \u001b[0;36mread_Files\u001b[1;34m(DIR, count_frames)\u001b[0m\n\u001b[0;32m     18\u001b[0m \u001b[39mif\u001b[39;00m file\u001b[39m.\u001b[39mendswith(\u001b[39m'\u001b[39m\u001b[39m.csv\u001b[39m\u001b[39m'\u001b[39m):\n\u001b[0;32m     19\u001b[0m     tmp \u001b[39m=\u001b[39m root\u001b[39m.\u001b[39mstrip()\u001b[39m.\u001b[39msplit(\u001b[39m'\u001b[39m\u001b[39m\\\\\u001b[39;00m\u001b[39m'\u001b[39m)\n\u001b[1;32m---> 20\u001b[0m     \u001b[39mif\u001b[39;00m tmp[\u001b[39m-\u001b[39m\u001b[39m2\u001b[39m] \u001b[39min\u001b[39;00m CLASS:\n\u001b[0;32m     21\u001b[0m         list_of_file\u001b[39m.\u001b[39mappend(os\u001b[39m.\u001b[39mpath\u001b[39m.\u001b[39mjoin(\u001b[39m'\u001b[39m\u001b[39m/\u001b[39m\u001b[39m'\u001b[39m\u001b[39m.\u001b[39mjoin(tmp[\u001b[39m-\u001b[39m\u001b[39m3\u001b[39m:]),file))\n\u001b[0;32m     22\u001b[0m         df \u001b[39m=\u001b[39m pd\u001b[39m.\u001b[39mread_csv(os\u001b[39m.\u001b[39mpath\u001b[39m.\u001b[39mjoin(root,file), sep\u001b[39m=\u001b[39m\u001b[39m'\u001b[39m\u001b[39m,\u001b[39m\u001b[39m'\u001b[39m,header\u001b[39m=\u001b[39m\u001b[39mNone\u001b[39;00m)\n",
      "File \u001b[1;32m~\\AppData\\Roaming\\Python\\Python38\\site-packages\\pandas\\util\\_decorators.py:311\u001b[0m, in \u001b[0;36mdeprecate_nonkeyword_arguments.<locals>.decorate.<locals>.wrapper\u001b[1;34m(*args, **kwargs)\u001b[0m\n\u001b[0;32m    305\u001b[0m \u001b[39mif\u001b[39;00m \u001b[39mlen\u001b[39m(args) \u001b[39m>\u001b[39m num_allow_args:\n\u001b[0;32m    306\u001b[0m     warnings\u001b[39m.\u001b[39mwarn(\n\u001b[0;32m    307\u001b[0m         msg\u001b[39m.\u001b[39mformat(arguments\u001b[39m=\u001b[39marguments),\n\u001b[0;32m    308\u001b[0m         \u001b[39mFutureWarning\u001b[39;00m,\n\u001b[0;32m    309\u001b[0m         stacklevel\u001b[39m=\u001b[39mstacklevel,\n\u001b[0;32m    310\u001b[0m     )\n\u001b[1;32m--> 311\u001b[0m \u001b[39mreturn\u001b[39;00m func(\u001b[39m*\u001b[39;49margs, \u001b[39m*\u001b[39;49m\u001b[39m*\u001b[39;49mkwargs)\n",
      "File \u001b[1;32m~\\AppData\\Roaming\\Python\\Python38\\site-packages\\pandas\\io\\parsers\\readers.py:586\u001b[0m, in \u001b[0;36mread_csv\u001b[1;34m(filepath_or_buffer, sep, delimiter, header, names, index_col, usecols, squeeze, prefix, mangle_dupe_cols, dtype, engine, converters, true_values, false_values, skipinitialspace, skiprows, skipfooter, nrows, na_values, keep_default_na, na_filter, verbose, skip_blank_lines, parse_dates, infer_datetime_format, keep_date_col, date_parser, dayfirst, cache_dates, iterator, chunksize, compression, thousands, decimal, lineterminator, quotechar, quoting, doublequote, escapechar, comment, encoding, encoding_errors, dialect, error_bad_lines, warn_bad_lines, on_bad_lines, delim_whitespace, low_memory, memory_map, float_precision, storage_options)\u001b[0m\n\u001b[0;32m    571\u001b[0m kwds_defaults \u001b[39m=\u001b[39m _refine_defaults_read(\n\u001b[0;32m    572\u001b[0m     dialect,\n\u001b[0;32m    573\u001b[0m     delimiter,\n\u001b[1;32m   (...)\u001b[0m\n\u001b[0;32m    582\u001b[0m     defaults\u001b[39m=\u001b[39m{\u001b[39m\"\u001b[39m\u001b[39mdelimiter\u001b[39m\u001b[39m\"\u001b[39m: \u001b[39m\"\u001b[39m\u001b[39m,\u001b[39m\u001b[39m\"\u001b[39m},\n\u001b[0;32m    583\u001b[0m )\n\u001b[0;32m    584\u001b[0m kwds\u001b[39m.\u001b[39mupdate(kwds_defaults)\n\u001b[1;32m--> 586\u001b[0m \u001b[39mreturn\u001b[39;00m _read(filepath_or_buffer, kwds)\n",
      "File \u001b[1;32m~\\AppData\\Roaming\\Python\\Python38\\site-packages\\pandas\\io\\parsers\\readers.py:488\u001b[0m, in \u001b[0;36m_read\u001b[1;34m(filepath_or_buffer, kwds)\u001b[0m\n\u001b[0;32m    485\u001b[0m     \u001b[39mreturn\u001b[39;00m parser\n\u001b[0;32m    487\u001b[0m \u001b[39mwith\u001b[39;00m parser:\n\u001b[1;32m--> 488\u001b[0m     \u001b[39mreturn\u001b[39;00m parser\u001b[39m.\u001b[39;49mread(nrows)\n",
      "File \u001b[1;32m~\\AppData\\Roaming\\Python\\Python38\\site-packages\\pandas\\io\\parsers\\readers.py:1059\u001b[0m, in \u001b[0;36mTextFileReader.read\u001b[1;34m(self, nrows)\u001b[0m\n\u001b[0;32m   1056\u001b[0m \u001b[39melse\u001b[39;00m:\n\u001b[0;32m   1057\u001b[0m     new_rows \u001b[39m=\u001b[39m \u001b[39mlen\u001b[39m(index)\n\u001b[1;32m-> 1059\u001b[0m df \u001b[39m=\u001b[39m DataFrame(col_dict, columns\u001b[39m=\u001b[39;49mcolumns, index\u001b[39m=\u001b[39;49mindex)\n\u001b[0;32m   1061\u001b[0m \u001b[39mself\u001b[39m\u001b[39m.\u001b[39m_currow \u001b[39m+\u001b[39m\u001b[39m=\u001b[39m new_rows\n\u001b[0;32m   1063\u001b[0m \u001b[39mif\u001b[39;00m \u001b[39mself\u001b[39m\u001b[39m.\u001b[39msqueeze \u001b[39mand\u001b[39;00m \u001b[39mlen\u001b[39m(df\u001b[39m.\u001b[39mcolumns) \u001b[39m==\u001b[39m \u001b[39m1\u001b[39m:\n",
      "File \u001b[1;32m~\\AppData\\Roaming\\Python\\Python38\\site-packages\\pandas\\core\\frame.py:614\u001b[0m, in \u001b[0;36mDataFrame.__init__\u001b[1;34m(self, data, index, columns, dtype, copy)\u001b[0m\n\u001b[0;32m    608\u001b[0m     mgr \u001b[39m=\u001b[39m \u001b[39mself\u001b[39m\u001b[39m.\u001b[39m_init_mgr(\n\u001b[0;32m    609\u001b[0m         data, axes\u001b[39m=\u001b[39m{\u001b[39m\"\u001b[39m\u001b[39mindex\u001b[39m\u001b[39m\"\u001b[39m: index, \u001b[39m\"\u001b[39m\u001b[39mcolumns\u001b[39m\u001b[39m\"\u001b[39m: columns}, dtype\u001b[39m=\u001b[39mdtype, copy\u001b[39m=\u001b[39mcopy\n\u001b[0;32m    610\u001b[0m     )\n\u001b[0;32m    612\u001b[0m \u001b[39melif\u001b[39;00m \u001b[39misinstance\u001b[39m(data, \u001b[39mdict\u001b[39m):\n\u001b[0;32m    613\u001b[0m     \u001b[39m# GH#38939 de facto copy defaults to False only in non-dict cases\u001b[39;00m\n\u001b[1;32m--> 614\u001b[0m     mgr \u001b[39m=\u001b[39m dict_to_mgr(data, index, columns, dtype\u001b[39m=\u001b[39;49mdtype, copy\u001b[39m=\u001b[39;49mcopy, typ\u001b[39m=\u001b[39;49mmanager)\n\u001b[0;32m    615\u001b[0m \u001b[39melif\u001b[39;00m \u001b[39misinstance\u001b[39m(data, ma\u001b[39m.\u001b[39mMaskedArray):\n\u001b[0;32m    616\u001b[0m     \u001b[39mimport\u001b[39;00m \u001b[39mnumpy\u001b[39;00m\u001b[39m.\u001b[39;00m\u001b[39mma\u001b[39;00m\u001b[39m.\u001b[39;00m\u001b[39mmrecords\u001b[39;00m \u001b[39mas\u001b[39;00m \u001b[39mmrecords\u001b[39;00m\n",
      "File \u001b[1;32m~\\AppData\\Roaming\\Python\\Python38\\site-packages\\pandas\\core\\internals\\construction.py:464\u001b[0m, in \u001b[0;36mdict_to_mgr\u001b[1;34m(data, index, columns, dtype, typ, copy)\u001b[0m\n\u001b[0;32m    456\u001b[0m     arrays \u001b[39m=\u001b[39m [\n\u001b[0;32m    457\u001b[0m         x\n\u001b[0;32m    458\u001b[0m         \u001b[39mif\u001b[39;00m \u001b[39mnot\u001b[39;00m \u001b[39mhasattr\u001b[39m(x, \u001b[39m\"\u001b[39m\u001b[39mdtype\u001b[39m\u001b[39m\"\u001b[39m) \u001b[39mor\u001b[39;00m \u001b[39mnot\u001b[39;00m \u001b[39misinstance\u001b[39m(x\u001b[39m.\u001b[39mdtype, ExtensionDtype)\n\u001b[0;32m    459\u001b[0m         \u001b[39melse\u001b[39;00m x\u001b[39m.\u001b[39mcopy()\n\u001b[0;32m    460\u001b[0m         \u001b[39mfor\u001b[39;00m x \u001b[39min\u001b[39;00m arrays\n\u001b[0;32m    461\u001b[0m     ]\n\u001b[0;32m    462\u001b[0m     \u001b[39m# TODO: can we get rid of the dt64tz special case above?\u001b[39;00m\n\u001b[1;32m--> 464\u001b[0m \u001b[39mreturn\u001b[39;00m arrays_to_mgr(\n\u001b[0;32m    465\u001b[0m     arrays, data_names, index, columns, dtype\u001b[39m=\u001b[39;49mdtype, typ\u001b[39m=\u001b[39;49mtyp, consolidate\u001b[39m=\u001b[39;49mcopy\n\u001b[0;32m    466\u001b[0m )\n",
      "File \u001b[1;32m~\\AppData\\Roaming\\Python\\Python38\\site-packages\\pandas\\core\\internals\\construction.py:135\u001b[0m, in \u001b[0;36marrays_to_mgr\u001b[1;34m(arrays, arr_names, index, columns, dtype, verify_integrity, typ, consolidate)\u001b[0m\n\u001b[0;32m    132\u001b[0m axes \u001b[39m=\u001b[39m [columns, index]\n\u001b[0;32m    134\u001b[0m \u001b[39mif\u001b[39;00m typ \u001b[39m==\u001b[39m \u001b[39m\"\u001b[39m\u001b[39mblock\u001b[39m\u001b[39m\"\u001b[39m:\n\u001b[1;32m--> 135\u001b[0m     \u001b[39mreturn\u001b[39;00m create_block_manager_from_arrays(\n\u001b[0;32m    136\u001b[0m         arrays, arr_names, axes, consolidate\u001b[39m=\u001b[39;49mconsolidate\n\u001b[0;32m    137\u001b[0m     )\n\u001b[0;32m    138\u001b[0m \u001b[39melif\u001b[39;00m typ \u001b[39m==\u001b[39m \u001b[39m\"\u001b[39m\u001b[39marray\u001b[39m\u001b[39m\"\u001b[39m:\n\u001b[0;32m    139\u001b[0m     \u001b[39mif\u001b[39;00m \u001b[39mlen\u001b[39m(columns) \u001b[39m!=\u001b[39m \u001b[39mlen\u001b[39m(arrays):\n",
      "File \u001b[1;32m~\\AppData\\Roaming\\Python\\Python38\\site-packages\\pandas\\core\\internals\\managers.py:1773\u001b[0m, in \u001b[0;36mcreate_block_manager_from_arrays\u001b[1;34m(arrays, names, axes, consolidate)\u001b[0m\n\u001b[0;32m   1770\u001b[0m arrays \u001b[39m=\u001b[39m [_extract_array(x) \u001b[39mfor\u001b[39;00m x \u001b[39min\u001b[39;00m arrays]\n\u001b[0;32m   1772\u001b[0m \u001b[39mtry\u001b[39;00m:\n\u001b[1;32m-> 1773\u001b[0m     blocks \u001b[39m=\u001b[39m _form_blocks(arrays, names, axes, consolidate)\n\u001b[0;32m   1774\u001b[0m     mgr \u001b[39m=\u001b[39m BlockManager(blocks, axes)\n\u001b[0;32m   1775\u001b[0m \u001b[39mexcept\u001b[39;00m \u001b[39mValueError\u001b[39;00m \u001b[39mas\u001b[39;00m e:\n",
      "File \u001b[1;32m~\\AppData\\Roaming\\Python\\Python38\\site-packages\\pandas\\core\\internals\\managers.py:1838\u001b[0m, in \u001b[0;36m_form_blocks\u001b[1;34m(arrays, names, axes, consolidate)\u001b[0m\n\u001b[0;32m   1836\u001b[0m blocks: \u001b[39mlist\u001b[39m[Block] \u001b[39m=\u001b[39m []\n\u001b[0;32m   1837\u001b[0m \u001b[39mif\u001b[39;00m \u001b[39mlen\u001b[39m(items_dict[\u001b[39m\"\u001b[39m\u001b[39mNumericBlock\u001b[39m\u001b[39m\"\u001b[39m]):\n\u001b[1;32m-> 1838\u001b[0m     numeric_blocks \u001b[39m=\u001b[39m _multi_blockify(\n\u001b[0;32m   1839\u001b[0m         items_dict[\u001b[39m\"\u001b[39;49m\u001b[39mNumericBlock\u001b[39;49m\u001b[39m\"\u001b[39;49m], consolidate\u001b[39m=\u001b[39;49mconsolidate\n\u001b[0;32m   1840\u001b[0m     )\n\u001b[0;32m   1841\u001b[0m     blocks\u001b[39m.\u001b[39mextend(numeric_blocks)\n\u001b[0;32m   1843\u001b[0m \u001b[39mif\u001b[39;00m \u001b[39mlen\u001b[39m(items_dict[\u001b[39m\"\u001b[39m\u001b[39mDatetimeLikeBlock\u001b[39m\u001b[39m\"\u001b[39m]):\n",
      "File \u001b[1;32m~\\AppData\\Roaming\\Python\\Python38\\site-packages\\pandas\\core\\internals\\managers.py:1928\u001b[0m, in \u001b[0;36m_multi_blockify\u001b[1;34m(tuples, dtype, consolidate)\u001b[0m\n\u001b[0;32m   1922\u001b[0m new_blocks \u001b[39m=\u001b[39m []\n\u001b[0;32m   1923\u001b[0m \u001b[39mfor\u001b[39;00m dtype, tup_block \u001b[39min\u001b[39;00m grouper:\n\u001b[0;32m   1924\u001b[0m \n\u001b[0;32m   1925\u001b[0m     \u001b[39m# error: Argument 2 to \"_stack_arrays\" has incompatible type\u001b[39;00m\n\u001b[0;32m   1926\u001b[0m     \u001b[39m# \"Union[ExtensionDtype, str, dtype[Any], Type[str], Type[float], Type[int],\u001b[39;00m\n\u001b[0;32m   1927\u001b[0m     \u001b[39m# Type[complex], Type[bool], Type[object], None]\"; expected \"dtype[Any]\"\u001b[39;00m\n\u001b[1;32m-> 1928\u001b[0m     values, placement \u001b[39m=\u001b[39m _stack_arrays(\n\u001b[0;32m   1929\u001b[0m         \u001b[39mlist\u001b[39;49m(tup_block), dtype  \u001b[39m# type: ignore[arg-type]\u001b[39;49;00m\n\u001b[0;32m   1930\u001b[0m     )\n\u001b[0;32m   1932\u001b[0m     block \u001b[39m=\u001b[39m new_block(values, placement\u001b[39m=\u001b[39mplacement, ndim\u001b[39m=\u001b[39m\u001b[39m2\u001b[39m)\n\u001b[0;32m   1933\u001b[0m     new_blocks\u001b[39m.\u001b[39mappend(block)\n",
      "File \u001b[1;32m~\\AppData\\Roaming\\Python\\Python38\\site-packages\\pandas\\core\\internals\\managers.py:1959\u001b[0m, in \u001b[0;36m_stack_arrays\u001b[1;34m(tuples, dtype)\u001b[0m\n\u001b[0;32m   1957\u001b[0m stacked \u001b[39m=\u001b[39m np\u001b[39m.\u001b[39mempty(shape, dtype\u001b[39m=\u001b[39mdtype)\n\u001b[0;32m   1958\u001b[0m \u001b[39mfor\u001b[39;00m i, arr \u001b[39min\u001b[39;00m \u001b[39menumerate\u001b[39m(arrays):\n\u001b[1;32m-> 1959\u001b[0m     stacked[i] \u001b[39m=\u001b[39m arr\n\u001b[0;32m   1961\u001b[0m \u001b[39mreturn\u001b[39;00m stacked, placement\n",
      "\u001b[1;31mKeyboardInterrupt\u001b[0m: "
     ]
    }
   ],
   "source": [
    "frames_count = 3\n",
    "x, y, _ = read_Files(frames_count)"
   ]
  },
  {
   "cell_type": "code",
   "execution_count": null,
   "id": "fc200924",
   "metadata": {},
   "outputs": [
    {
     "name": "stdout",
     "output_type": "stream",
     "text": [
      "torch.Size([4624, 3, 11, 61]) torch.Size([4624]) torch.Size([1157, 3, 11, 61]) torch.Size([1157])\n"
     ]
    }
   ],
   "source": [
    "\n",
    "\n",
    "X_train, X_test, y_train, y_test = train_test_split(x, y, test_size=0.2)\n",
    "train_dataloader, val_dataloader = make_dataloader(X_train, X_test, y_train, y_test, batch=64)"
   ]
  },
  {
   "cell_type": "code",
   "execution_count": null,
   "id": "ca29ad69",
   "metadata": {},
   "outputs": [],
   "source": [
    "model = MyRadarNet(frames_count)\n",
    "model.cuda()\n",
    "n_epochs = 50\n",
    "optimizer = torch.optim.Adam(model.parameters(), lr=0.00005, eps=1e-08)\n",
    "criterion = nn.CrossEntropyLoss()\n",
    "scheduler = optim.lr_scheduler.ExponentialLR(optimizer, gamma=0.97)"
   ]
  },
  {
   "cell_type": "code",
   "execution_count": 8,
   "id": "1d4adb86",
   "metadata": {
    "scrolled": false
   },
   "outputs": [
    {
     "name": "stdout",
     "output_type": "stream",
     "text": [
      "Эпоха: 50;\ttrain loss: 0.596;\tvalid loss: 0.605;\tТочность: 95.85 % \n"
     ]
    },
    {
     "data": {
      "image/png": "[encoded data removed]",
      "text/plain": [
       "<Figure size 432x288 with 2 Axes>"
      ]
     },
     "metadata": {
      "needs_background": "light"
     },
     "output_type": "display_data"
    },
    {
     "data": {
      "text/plain": [
       "<Figure size 432x288 with 0 Axes>"
      ]
     },
     "metadata": {},
     "output_type": "display_data"
    }
   ],
   "source": [
    "%matplotlib inline\n",
    "\n",
    "torch.cuda.empty_cache()\n",
    "train(model, train_dataloader, val_dataloader, criterion, optimizer, scheduler, device, n_epochs)"
   ]
  },
  {
   "cell_type": "code",
   "execution_count": 42,
   "id": "51796821",
   "metadata": {},
   "outputs": [
    {
     "ename": "NameError",
     "evalue": "name 'plot_conf_matrix' is not defined",
     "output_type": "error",
     "traceback": [
      "\u001b[1;31m---------------------------------------------------------------------------\u001b[0m",
      "\u001b[1;31mNameError\u001b[0m                                 Traceback (most recent call last)",
      "\u001b[1;32mc:\\Users\\Kerosene\\ВШЭ\\ВКР\\RADAR_repo\\baseline model.ipynb Ячейка 7\u001b[0m in \u001b[0;36m<cell line: 2>\u001b[1;34m()\u001b[0m\n\u001b[0;32m      <a href='vscode-notebook-cell:/c%3A/Users/Kerosene/%D0%92%D0%A8%D0%AD/%D0%92%D0%9A%D0%A0/RADAR_repo/baseline%20model.ipynb#X10sZmlsZQ%3D%3D?line=0'>1</a>\u001b[0m _, predicted_labels, true_labels \u001b[39m=\u001b[39m predict(model, val_dataloader, criterion, device)\n\u001b[1;32m----> <a href='vscode-notebook-cell:/c%3A/Users/Kerosene/%D0%92%D0%A8%D0%AD/%D0%92%D0%9A%D0%A0/RADAR_repo/baseline%20model.ipynb#X10sZmlsZQ%3D%3D?line=1'>2</a>\u001b[0m plot_conf_matrix(predicted_labels, true_labels)\n",
      "\u001b[1;31mNameError\u001b[0m: name 'plot_conf_matrix' is not defined"
     ]
    }
   ],
   "source": [
    "_, predicted_labels, true_labels = predict(model, val_dataloader, criterion, device)\n",
    "plot_conf_matrix(predicted_labels, true_labels)"
   ]
  }
 ],
 "metadata": {
  "kernelspec": {
   "display_name": "Python 3 (ipykernel)",
   "language": "python",
   "name": "python3"
  },
  "language_info": {
   "codemirror_mode": {
    "name": "ipython",
    "version": 3
   },
   "file_extension": ".py",
   "mimetype": "text/x-python",
   "name": "python",
   "nbconvert_exporter": "python",
   "pygments_lexer": "ipython3",
   "version": "3.8.8"
  }
 },
 "nbformat": 4,
 "nbformat_minor": 5
}
